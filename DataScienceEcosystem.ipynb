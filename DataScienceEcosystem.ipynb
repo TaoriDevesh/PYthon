{
 "cells": [
  {
   "cell_type": "code",
   "execution_count": 1,
   "id": "e5392ff3",
   "metadata": {},
   "outputs": [],
   "source": [
    "#In this notebook, Data Science Tools and Ecosystem are summarized."
   ]
  },
  {
   "cell_type": "code",
   "execution_count": 9,
   "id": "40a44ac2",
   "metadata": {},
   "outputs": [
    {
     "name": "stdout",
     "output_type": "stream",
     "text": [
      "Some of the popular languages that Data Scientists use are Python, R\n"
     ]
    }
   ],
   "source": [
    "print('Some of the popular languages that Data Scientists use are' ' Python,', 'R' )"
   ]
  },
  {
   "cell_type": "code",
   "execution_count": 11,
   "id": "829bedc5",
   "metadata": {},
   "outputs": [],
   "source": [
    "#Some of the commonly used libraries used by Data Scientists include:\n",
    "import seaborn as sn\n",
    "import numpy as np\n",
    "import pandas as pd \n",
    "import tensorflow as te \n",
    "import matpoltlib as mt "
   ]
  },
  {
   "cell_type": "code",
   "execution_count": 12,
   "id": "cef6f2e0",
   "metadata": {},
   "outputs": [
    {
     "name": "stdout",
     "output_type": "stream",
     "text": [
      "| Data Science Tools            |\n",
      "|:------------------------------|\n",
      "| Jupyter Notebook              |\n",
      "| Google Colab                  |\n",
      "| VS Code with Python Extension |\n"
     ]
    }
   ],
   "source": [
    "import pandas as pd\n",
    "\n",
    "data = {'Data Science Tools': ['Jupyter Notebook', 'Google Colab', 'VS Code with Python Extension']}\n",
    "df = pd.DataFrame(data)\n",
    "\n",
    "print(df.to_markdown(index=False))"
   ]
  },
  {
   "cell_type": "code",
   "execution_count": 16,
   "id": "6d93d14f",
   "metadata": {},
   "outputs": [
    {
     "name": "stdout",
     "output_type": "stream",
     "text": [
      "Below are a few examples of evaluating arithmetic expressions in Python\n"
     ]
    }
   ],
   "source": [
    "#Below are a few examples of evaluating arithmetic expressions in Python.\n",
    "print(\"Below are a few examples of evaluating arithmetic expressions in Python\")"
   ]
  },
  {
   "cell_type": "code",
   "execution_count": 17,
   "id": "c6dd972e",
   "metadata": {},
   "outputs": [
    {
     "data": {
      "text/plain": [
       "17"
      ]
     },
     "execution_count": 17,
     "metadata": {},
     "output_type": "execute_result"
    }
   ],
   "source": [
    "(3*4)+5"
   ]
  },
  {
   "cell_type": "code",
   "execution_count": 25,
   "id": "2c51ed42",
   "metadata": {},
   "outputs": [
    {
     "name": "stdout",
     "output_type": "stream",
     "text": [
      "This will convert 200 minutes to hours by diving by 60 is  [3.3333333333333335]\n"
     ]
    }
   ],
   "source": [
    "A= [200/60]\n",
    "print('This will convert 200 minutes to hours by diving by 60 is ', A)"
   ]
  },
  {
   "cell_type": "code",
   "execution_count": 28,
   "id": "5ffdcf11",
   "metadata": {},
   "outputs": [],
   "source": [
    "#**Objectives:**\n",
    "\n",
    "#List popular languages for Data Science\n",
    "#Understand basic Python syntax\n",
    "#Learn how to work with data using libraries like pandas and NumPy\n",
    "#Explore data visualization techniques using Matplotlib\n",
    "#Apply machine learning models using Scikit-learn]"
   ]
  },
  {
   "cell_type": "code",
   "execution_count": 29,
   "id": "5ec53c5f",
   "metadata": {},
   "outputs": [],
   "source": [
    "# Author \n",
    "#Devesh Taori "
   ]
  },
  {
   "cell_type": "code",
   "execution_count": null,
   "id": "da72491b",
   "metadata": {},
   "outputs": [],
   "source": []
  }
 ],
 "metadata": {
  "kernelspec": {
   "display_name": "Python 3 (ipykernel)",
   "language": "python",
   "name": "python3"
  },
  "language_info": {
   "codemirror_mode": {
    "name": "ipython",
    "version": 3
   },
   "file_extension": ".py",
   "mimetype": "text/x-python",
   "name": "python",
   "nbconvert_exporter": "python",
   "pygments_lexer": "ipython3",
   "version": "3.10.9"
  }
 },
 "nbformat": 4,
 "nbformat_minor": 5
}
